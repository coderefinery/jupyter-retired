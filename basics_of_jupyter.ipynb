{
 "cells": [
  {
   "cell_type": "markdown",
   "metadata": {},
   "source": [
    "# Basics of Jupyter Notebooks"
   ]
  },
  {
   "cell_type": "markdown",
   "metadata": {},
   "source": [
    "## First fetch the source\n",
    "\n",
    "```git clone https://github.com/coderefinery/jupyter.git\n",
    "cd jupyter\n",
    "jupyter-notebook```"
   ]
  },
  {
   "cell_type": "markdown",
   "metadata": {},
   "source": [
    "## Some history\n",
    "- In 2014, Fernando Pérez announced a spin-off project from IPython called Project Jupyter, moving the notebook and other language-agnostic parts of IPython to Jupyter\n",
    "- The name \"Jupyter\" derives from Julia+Python+R, but today Jupyter kernels exist for [dozens of programming languages](https://github.com/jupyter/jupyter/wiki/Jupyter-kernels)\n",
    "- Galileo's publication in a pamphlet in 1610 in Sidereus Nuncius, one of the first notebooks!  \n",
    "<img src=\"http://media.gettyimages.com/photos/pages-from-sidereus-nuncius-magna-by-galileo-galilei-a-book-of-and-picture-id90732970\" width=\"500\">\n",
    "\n"
   ]
  },
  {
   "cell_type": "markdown",
   "metadata": {},
   "source": [
    "## Navigating Jupyter notebooks\n",
    " - Notebook Dashboard\n",
    "   * `Files` tab shows files in current directory\n",
    "   * `Running` tab shows kernels running on your computer\n",
    "   * `Clusters` tab lets you launch kernels for parallel computing\n",
    " - Fully-fledged terminal (you can run emacs and vi)\n",
    " - Text editor for source code in many different languages  \n",
    " "
   ]
  },
  {
   "cell_type": "markdown",
   "metadata": {},
   "source": [
    "## Cells\n",
    "\n",
    "- **Markdown cells** contain formatted text written in Markdown \n",
    "- **Code cells** contain code to be interpreted by the *kernel* (Python, R, Julia, Octave/Matlab...)\n",
    "\n",
    "![Components](img/notebook_components.png)"
   ]
  },
  {
   "cell_type": "markdown",
   "metadata": {},
   "source": [
    "## Markdown cells\n",
    "\n",
    "This cell contains simple [markdown](https://daringfireball.net/projects/markdown/syntax), a simple language for writing text that can be automatically converted to other formats, e.g. HTML, LaTeX or any of a number of others.\n",
    "\n",
    "**Bold**, *italics*, **_combined_**, ~~strikethrough~~, `inline code`.\n",
    "\n",
    "* bullet points\n",
    "\n",
    "or\n",
    "\n",
    "1. numbered\n",
    "3. lists\n",
    "\n",
    "**Equations:**   \n",
    "inline $e^{i\\pi} + 1 = 0$\n",
    "or on new line  \n",
    "$$e^{i\\pi} + 1 = 0$$\n",
    "\n",
    "Images ![CodeRefinery Logo](https://pbs.twimg.com/profile_images/875283559052980224/tQLhMsZC_400x400.jpg)\n",
    "\n",
    "Links:  \n",
    "[One of many markdown cheat-sheets](https://github.com/adam-p/markdown-here/wiki/Markdown-Cheatsheet#emphasis)\n"
   ]
  },
  {
   "cell_type": "markdown",
   "metadata": {},
   "source": [
    "## Code cells"
   ]
  },
  {
   "cell_type": "code",
   "execution_count": 1,
   "metadata": {},
   "outputs": [
    {
     "name": "stdout",
     "output_type": "stream",
     "text": [
      "hello world\n"
     ]
    }
   ],
   "source": [
    "# a code cell can run statements of code.\n",
    "# when you run this cell, the output is sent \n",
    "# from the web page to a back-end process, run \n",
    "# and the results are displayed to you\n",
    "print(\"hello world\")"
   ]
  },
  {
   "cell_type": "markdown",
   "metadata": {},
   "source": [
    "## In this lesson you will learn \n",
    "- How *markdown* and *code* cells work\n",
    "- How to use keyboard shortcuts to speed up your work\n",
    "- How to use *widgets*\n",
    "- How to use notebook *magic commands* and create new custom magics\n",
    "- How to mix in different markup and programming languages (html, LaTeX, bash, ruby, perl, R, octave)"
   ]
  },
  {
   "cell_type": "markdown",
   "metadata": {},
   "source": [
    "# Data analysis and visualization in Jupyter Notebooks\n"
   ]
  },
  {
   "cell_type": "markdown",
   "metadata": {},
   "source": [
    "### Let us look into some Jupyter features\n",
    "- Toggle between code and markdown cells\n",
    "- Edit mode and Command mode\n",
    "- Executing a cell\n",
    "- Inserting, copying, pasting and removing cells\n",
    "- Execution order - prompt numbers\n",
    "- Meaning of _\n",
    "- Getting help with ?"
   ]
  },
  {
   "cell_type": "code",
   "execution_count": null,
   "metadata": {},
   "outputs": [],
   "source": []
  },
  {
   "cell_type": "markdown",
   "metadata": {},
   "source": [
    "### <font color=\"red\"> *Exercise 1.1* </font>"
   ]
  },
  {
   "cell_type": "markdown",
   "metadata": {},
   "source": [
    "Spend a couple of minutes playing around with Markdown and code cells:\n",
    "1. Create a new cell below this one, and make it a Markdown cell \n",
    "2. Go to Edit mode, and add a heading along with some bullet points and an equation\n",
    "3. Add another cell below, and make it a code cell\n",
    "4. Add some code which returns output (either use `print()` or type the variable name at the end of the cell)\n",
    "5. Try some of the keyboard shortcuts listed below\n",
    "\n",
    "Here are some useful hints:\n",
    "* You can edit the cell by double-clicking on it, or pressing `Enter` when it's selected\n",
    "* You can run the cell by pressing the play-button in the toolbar, or press `Shift-Enter`\n",
    "* You can change the type of the cell from the toolbar, or press `m` for Markdown and `y` for code\n",
    "\n",
    "**Questions**\n",
    "* What is the difference between executing a cell with `Shift-Enter`, `Ctrl-Enter` or `Alt-Enter`?\n",
    "\n",
    "\n",
    "If you already know all this or if you want to move on:\n",
    "- Go to exercise 1.2 below"
   ]
  },
  {
   "cell_type": "markdown",
   "metadata": {},
   "source": [
    "### Keyboard shortcuts \n",
    "\n",
    "Some shortcuts only work in Command or Edit mode.\n",
    "\n",
    "* `Enter` key to enter Edit mode (`Escape` to enter Command mode)\n",
    "* `Ctrl`-`Enter`: run the cell\n",
    "* `Shift`-`Enter`: run the cell and select the cell below\n",
    "* `Alt`-`Enter`: run the cell and insert a new cell below\n",
    "* `Ctrl`-`s`: save the notebook \n",
    "* `Tab` key for code completion or indentation (Edit mode)\n",
    "* `m` and `y` to toggle between Markdown and Code cells (Command mode)\n",
    "* `d-d` to delete a cell (Command mode)\n",
    "* `z` to undo deleting (Command mode)\n",
    "* `a/b` to insert cells above/below current cell (Command mode)\n",
    "* `x/c/v` to cut/copy/paste cells (Command mode)\n",
    "* `Up/Down` or `k/j` to select previous/next cells (Command mode)\n",
    "* `h` for help menu for keyboard shortcuts (Command mode)\n",
    "* Append `?` for help on commands/methods, `??` to show source (Edit mode) "
   ]
  },
  {
   "cell_type": "markdown",
   "metadata": {},
   "source": [
    "### Shell commands\n",
    "  - You can run shell commands by prepending with !\n",
    "    - NB: on Windows, GitBash needs to have the following option enabled:   \n",
    "    `Use Git and the optional Unix tools from the Windows Command Prompt` \n",
    "  - Useful, e.g., for managing the python environment\n",
    "  - Remember to make sure your cell command doesn't require interaction"
   ]
  },
  {
   "cell_type": "code",
   "execution_count": null,
   "metadata": {},
   "outputs": [],
   "source": [
    "!echo \"hello\""
   ]
  },
  {
   "cell_type": "code",
   "execution_count": null,
   "metadata": {},
   "outputs": [],
   "source": [
    "!pip list"
   ]
  },
  {
   "cell_type": "markdown",
   "metadata": {},
   "source": [
    " - Many common linux shell commands are available as magics: %ls, %pwd, %mkdir, %cp, %mv, %cd, *etc.*, more on magics [later in the lesson](#Magics)"
   ]
  },
  {
   "cell_type": "markdown",
   "metadata": {},
   "source": [
    "<a id=\"exercise_git\"></a>\n",
    "### <font color=\"red\"> *Exercise 1.2* </font>\n",
    "\n",
    "Try to only use keyboard shortcuts for the following steps:\n",
    "\n",
    "1. Create a new code cell below this one\n",
    "2. Run a `git diff` ([this is why tools like nbdime have been developed!](#Version-control-of-notebooks))\n",
    "3. Toggle the output of this cell"
   ]
  },
  {
   "cell_type": "markdown",
   "metadata": {},
   "source": [
    "## Interactive plotting"
   ]
  },
  {
   "cell_type": "markdown",
   "metadata": {},
   "source": [
    "Jupyter supports interactive plotting with matplotlib and other visualization libraries (including for other languages). Matplotlib can be used with different backends, which will make the plots appear differently in the Notebook"
   ]
  },
  {
   "cell_type": "code",
   "execution_count": null,
   "metadata": {},
   "outputs": [],
   "source": [
    "%matplotlib --list"
   ]
  },
  {
   "cell_type": "code",
   "execution_count": null,
   "metadata": {},
   "outputs": [],
   "source": [
    "#%matplotlib notebook\n",
    "%matplotlib inline\n",
    "\n",
    "import numpy as np\n",
    "import matplotlib.pyplot as plt\n",
    "x = np.linspace(0,2*np.pi,100)\n",
    "y = np.sin(x)\n",
    "plt.plot(x,y, 'r-')\n",
    "plt.show()"
   ]
  },
  {
   "cell_type": "markdown",
   "metadata": {},
   "source": [
    "## Widgets"
   ]
  },
  {
   "cell_type": "markdown",
   "metadata": {},
   "source": [
    "Widgets add more interactivity to Notebooks, allowing one to visualize and control changes in data, parameters etc."
   ]
  },
  {
   "cell_type": "code",
   "execution_count": null,
   "metadata": {},
   "outputs": [],
   "source": [
    "from ipywidgets import interact"
   ]
  },
  {
   "cell_type": "markdown",
   "metadata": {},
   "source": [
    "#### Use `interact` as a function"
   ]
  },
  {
   "cell_type": "code",
   "execution_count": null,
   "metadata": {},
   "outputs": [],
   "source": [
    "def f(x, y, s):\n",
    "    return (x, y, s)\n",
    "\n",
    "interact(f, x=True, y=1.0, s=\"Hello\");"
   ]
  },
  {
   "cell_type": "markdown",
   "metadata": {},
   "source": [
    "#### Use `interact` as a decorator"
   ]
  },
  {
   "cell_type": "code",
   "execution_count": null,
   "metadata": {},
   "outputs": [],
   "source": [
    "@interact(x=True, y=1.0, s=\"Hello\")\n",
    "def g(x, y, s):\n",
    "    return (x, y, s)"
   ]
  },
  {
   "cell_type": "markdown",
   "metadata": {},
   "source": [
    "## More interactive plotting using widgets"
   ]
  },
  {
   "cell_type": "code",
   "execution_count": null,
   "metadata": {},
   "outputs": [],
   "source": [
    "from ipywidgets import interact # IPython.html.widgets before IPython 4.0\n",
    "\n",
    "@interact\n",
    "def plot(n=(1,6)):\n",
    "    x = np.linspace(0,2*np.pi,100)\n",
    "    y = np.sin(n*x)\n",
    "    plt.plot(x,y, 'r-')\n",
    "    plt.show()"
   ]
  },
  {
   "cell_type": "markdown",
   "metadata": {},
   "source": [
    "### <font color=\"red\"> *Exercise 1.3* </font>\n",
    "\n",
    "- Execute the cell below. It fits a 5th order polynomial to a gaussian function with some random noise \n",
    "- Use the `@interact` decorator together with the function `fit`, such that you can visualize fits with polynomial orders `n` ranging from, say, 3 to 30\n"
   ]
  },
  {
   "cell_type": "code",
   "execution_count": null,
   "metadata": {},
   "outputs": [],
   "source": [
    "# gaussian function\n",
    "def gauss(x,param):\n",
    "    [a,b,c] = param\n",
    "    return a*np.exp(-b*(x-c)**2)\n",
    "\n",
    "# gaussian array y in interval -5<x-5 \n",
    "nx = 100\n",
    "x = np.linspace(-5.,5.,nx)\n",
    "p = [2.0,0.5,1.5] # some parameters\n",
    "y = gauss(x,p)\n",
    "\n",
    "# add some noise\n",
    "noise = np.random.normal(0,0.2,nx)\n",
    "y += noise\n",
    "\n",
    "# we fit a 5th order polynomial to it\n",
    "\n",
    "def fit(n):\n",
    "    pfit = np.polyfit(x,y,n)\n",
    "    yfit = np.polyval(pfit,x)\n",
    "    plt.plot(x,y,\"r\",label=\"Data\")\n",
    "    plt.plot(x,yfit,\"b\",label=\"Fit\")\n",
    "    plt.legend()\n",
    "    plt.ylim(-0.5,2.5)\n",
    "    plt.show()\n",
    "    \n",
    "# call function fit\n",
    "# these lines are unnecessary when you use the interact widget\n",
    "n=5\n",
    "fit(n)"
   ]
  },
  {
   "cell_type": "markdown",
   "metadata": {},
   "source": [
    "## Magics"
   ]
  },
  {
   "cell_type": "markdown",
   "metadata": {},
   "source": [
    "Magics are a simple command language which significantly extend the power of Jupyter "
   ]
  },
  {
   "cell_type": "markdown",
   "metadata": {},
   "source": [
    "Two kinds of magics:\n",
    "\n",
    "  - **Line magics**: commands prepended by one % character and whose arguments only extend to the end of the current line.\n",
    "  - **Cell magics**: use two percent characters as a marker (%%), receive as argument the whole cell (must be used as the first line in a cell)"
   ]
  },
  {
   "cell_type": "markdown",
   "metadata": {},
   "source": [
    "Other features:\n",
    "  - Use `%lsmagic` magic to list all available line and cell magics\n",
    "  - Question mark shows help: `%lsmagic?`\n",
    "  - `%quickref` gives a short reference of available magic (and other) functionality \n",
    "  - Additional magics can be created, see below for example"
   ]
  },
  {
   "cell_type": "code",
   "execution_count": null,
   "metadata": {},
   "outputs": [],
   "source": [
    "%lsmagic"
   ]
  },
  {
   "cell_type": "code",
   "execution_count": null,
   "metadata": {},
   "outputs": [],
   "source": [
    "%quickref"
   ]
  },
  {
   "cell_type": "markdown",
   "metadata": {},
   "source": [
    "You can capture the output of line magic (and shell) commands"
   ]
  },
  {
   "cell_type": "code",
   "execution_count": null,
   "metadata": {},
   "outputs": [],
   "source": [
    "!ls"
   ]
  },
  {
   "cell_type": "code",
   "execution_count": null,
   "metadata": {},
   "outputs": [],
   "source": [
    "ls_out = %ls\n",
    "ls_out"
   ]
  },
  {
   "cell_type": "code",
   "execution_count": null,
   "metadata": {},
   "outputs": [],
   "source": [
    "%sx?"
   ]
  },
  {
   "cell_type": "code",
   "execution_count": null,
   "metadata": {},
   "outputs": [],
   "source": [
    "ls_out = %sx ls\n",
    "ls_out"
   ]
  },
  {
   "cell_type": "markdown",
   "metadata": {},
   "source": [
    "### %timeit\n",
    "- Timing execution\n",
    "- Both Line and Cell level"
   ]
  },
  {
   "cell_type": "code",
   "execution_count": null,
   "metadata": {},
   "outputs": [],
   "source": [
    "%timeit import time ; time.sleep(1)"
   ]
  },
  {
   "cell_type": "code",
   "execution_count": null,
   "metadata": {},
   "outputs": [],
   "source": [
    "import numpy as np"
   ]
  },
  {
   "cell_type": "code",
   "execution_count": null,
   "metadata": {},
   "outputs": [],
   "source": [
    "%%timeit \n",
    "a = np.random.rand(100, 100)\n",
    "np.linalg.eigvals(a)"
   ]
  },
  {
   "cell_type": "markdown",
   "metadata": {},
   "source": [
    "### %%writefile\n",
    "Writes the cell contents as a named file"
   ]
  },
  {
   "cell_type": "code",
   "execution_count": null,
   "metadata": {},
   "outputs": [],
   "source": [
    "%%writefile foo.py\n",
    "print('Hello world')"
   ]
  },
  {
   "cell_type": "markdown",
   "metadata": {},
   "source": [
    "### %run \n",
    " - Executes python code from .py files \n",
    " - Can also execute other jupyter notebooks"
   ]
  },
  {
   "cell_type": "code",
   "execution_count": null,
   "metadata": {},
   "outputs": [],
   "source": [
    "%run foo"
   ]
  },
  {
   "cell_type": "markdown",
   "metadata": {},
   "source": [
    "### %load\n",
    " - Loads code directly into cell. File either from local disk or from the internet\n",
    " - After uncommenting the code below and executing, it will replace the content of cell with contents of file."
   ]
  },
  {
   "cell_type": "code",
   "execution_count": null,
   "metadata": {},
   "outputs": [],
   "source": [
    "# %load https://matplotlib.org/_downloads/annotate_transform.py"
   ]
  },
  {
   "cell_type": "markdown",
   "metadata": {},
   "source": [
    "### %debug\n",
    "Activate interactive debugger"
   ]
  },
  {
   "cell_type": "markdown",
   "metadata": {},
   "source": [
    "Let's try using `%debug` to hunt down a bug.     \n",
    "Note that one first needs to load the .py file, then execute it, and then run the `%debug` magic."
   ]
  },
  {
   "cell_type": "code",
   "execution_count": null,
   "metadata": {},
   "outputs": [],
   "source": [
    "# %load debug_example.py\n",
    "import numpy as np\n",
    "import matplotlib.pyplot as plt\n",
    "\n",
    "def plot_log():\n",
    "    fig, ax = plt.subplots(2, 1)\n",
    "    x = np.linspace(1, 2, 10)\n",
    "    ax.plot(x, np.log(x))\n",
    "    plt.show()\n",
    "\n",
    "plot_log()  # Call the function, generate plot\n"
   ]
  },
  {
   "cell_type": "markdown",
   "metadata": {},
   "source": [
    "Run the debugger post-mortem. If an exception has just occurred, the debug magic lets you inspect its stack frames interactively"
   ]
  },
  {
   "cell_type": "code",
   "execution_count": null,
   "metadata": {},
   "outputs": [],
   "source": [
    "%debug"
   ]
  },
  {
   "cell_type": "markdown",
   "metadata": {},
   "source": [
    "**Don't forget to exit the debugger by typing `q` and `Enter`!**  \n",
    "If you don't, the background process will not be ready for your next command."
   ]
  },
  {
   "cell_type": "markdown",
   "metadata": {},
   "source": [
    "### %prun\n",
    " - Python code profiler\n",
    " - Cell and Line magic"
   ]
  },
  {
   "cell_type": "markdown",
   "metadata": {},
   "source": [
    "### <font color=\"red\"> *Exercise 1.4* </font>"
   ]
  },
  {
   "cell_type": "markdown",
   "metadata": {},
   "source": [
    "1. Load the random_walk.py example into a cell below with the appropriate magic command\n",
    "2. Split up the functions over cells (either via Edit menu or keyboard shortcut `Ctrl-Shift-minus)`. \n",
    "3. Initializating `n` and calling `walk()` doesn't need to be in a main function, and you can remove the `__name__` stuff\n",
    "4. Plot the random walk trajectory\n",
    "5. Time the execution of `walk()` with a line magic\n",
    "6. Run the prun cell profiler\n",
    "7. Can you spot a little mistake which is slowing down the code?"
   ]
  },
  {
   "cell_type": "code",
   "execution_count": null,
   "metadata": {},
   "outputs": [],
   "source": [
    "# %load random_walk.py"
   ]
  },
  {
   "cell_type": "markdown",
   "metadata": {},
   "source": [
    "### <font color=\"green\"> *Solution* </font>\n",
    "\n",
    "> One possible solution can be found in the solutions.ipynb notebook"
   ]
  },
  {
   "cell_type": "markdown",
   "metadata": {},
   "source": [
    "### Installing a new magic command"
   ]
  },
  {
   "cell_type": "markdown",
   "metadata": {},
   "source": [
    "Magics can be loaded like plugins and installed using `pip`.\n",
    "\n",
    "We will now install a line-profiler to get more detailed profile, and hopefully find insight to speed up the code."
   ]
  },
  {
   "cell_type": "code",
   "execution_count": null,
   "metadata": {},
   "outputs": [],
   "source": [
    "!pip install line_profiler"
   ]
  },
  {
   "cell_type": "code",
   "execution_count": null,
   "metadata": {},
   "outputs": [],
   "source": [
    "%load_ext line_profiler"
   ]
  },
  {
   "cell_type": "code",
   "execution_count": null,
   "metadata": {},
   "outputs": [],
   "source": [
    "# %load random_walk.py"
   ]
  },
  {
   "cell_type": "code",
   "execution_count": null,
   "metadata": {},
   "outputs": [],
   "source": [
    "%lprun -f walk main()"
   ]
  },
  {
   "cell_type": "markdown",
   "metadata": {},
   "source": [
    "### Other types of media"
   ]
  },
  {
   "cell_type": "code",
   "execution_count": null,
   "metadata": {},
   "outputs": [],
   "source": [
    "import IPython.display\n",
    "IPython.display.Audio?"
   ]
  },
  {
   "cell_type": "code",
   "execution_count": null,
   "metadata": {},
   "outputs": [],
   "source": [
    "from IPython.display import YouTubeVideo\n",
    "YouTubeVideo('j9YpkSX7NNM')"
   ]
  },
  {
   "cell_type": "code",
   "execution_count": null,
   "metadata": {},
   "outputs": [],
   "source": [
    "from IPython.display import Audio\n",
    "framerate = 44100\n",
    "t = np.linspace(0,5,framerate*5)\n",
    "data = np.sin(2*np.pi*220*t) + np.sin(2*np.pi*224*t)\n",
    "Audio(data,rate=framerate)\n",
    "\n",
    "#Audio(url=\"http://www.w3schools.com/html/horse.ogg\")\n",
    "\n"
   ]
  },
  {
   "cell_type": "code",
   "execution_count": null,
   "metadata": {},
   "outputs": [],
   "source": [
    "from IPython.display import IFrame\n",
    "IFrame(\"http://jupyter.org\",width='100%',height=350)"
   ]
  },
  {
   "cell_type": "markdown",
   "metadata": {},
   "source": [
    "### Further shell access with %%bash magic\n",
    " - Run cells with bash in a subprocess\n",
    " - On Windows, you *may* have to use `%%cmd` instead and use appropriate Windows commands"
   ]
  },
  {
   "cell_type": "code",
   "execution_count": null,
   "metadata": {},
   "outputs": [],
   "source": [
    "%%bash\n",
    "mkdir tmpdir\n",
    "cd tmpdir\n",
    "pwd\n",
    "echo \"foo\" > test.file\n",
    "ls\n",
    "cat test.file\n",
    "cd ..\n",
    "rm -r tmpdir"
   ]
  },
  {
   "cell_type": "markdown",
   "metadata": {},
   "source": [
    "#### One can store the standard error and output"
   ]
  },
  {
   "cell_type": "code",
   "execution_count": null,
   "metadata": {},
   "outputs": [],
   "source": [
    "%%bash --out output --err error\n",
    "echo \"hi, stdout\"\n",
    "echo \"hello, stderr\" >&2"
   ]
  },
  {
   "cell_type": "code",
   "execution_count": null,
   "metadata": {},
   "outputs": [],
   "source": [
    "print(error)\n",
    "print(output)"
   ]
  },
  {
   "cell_type": "markdown",
   "metadata": {},
   "source": [
    "### Mixing in other languages (assuming that they're installed)"
   ]
  },
  {
   "cell_type": "markdown",
   "metadata": {},
   "source": [
    "The `%%script` magic is like the #! (shebang) line of a Unix script,\n",
    "specifying a program (bash, perl, ruby, etc.) with which to run.  \n",
    "But one can also directly use these:\n",
    "- %%ruby\n",
    "- %%perl\n",
    "- %%bash\n",
    "- %%html\n",
    "- %%latex\n",
    "- %%R"
   ]
  },
  {
   "cell_type": "markdown",
   "metadata": {},
   "source": [
    "Why would you want to mix programming languages in the same notebook?\n",
    " - leverage strengths from different languages\n",
    " - using code from colleagues\n",
    " - a fantastic library exists in another language than your favorite one"
   ]
  },
  {
   "cell_type": "code",
   "execution_count": null,
   "metadata": {},
   "outputs": [],
   "source": [
    "%%ruby\n",
    "puts 'Hi, this is ruby.'"
   ]
  },
  {
   "cell_type": "code",
   "execution_count": null,
   "metadata": {},
   "outputs": [],
   "source": [
    "%%script ruby\n",
    "puts 'Hi, this is also ruby.'"
   ]
  },
  {
   "cell_type": "code",
   "execution_count": null,
   "metadata": {},
   "outputs": [],
   "source": [
    "%%perl\n",
    "print \"Hello, this is perl\\n\";"
   ]
  },
  {
   "cell_type": "code",
   "execution_count": null,
   "metadata": {},
   "outputs": [],
   "source": [
    "%%bash\n",
    "echo \"Hullo, I'm bash\""
   ]
  },
  {
   "cell_type": "code",
   "execution_count": null,
   "metadata": {},
   "outputs": [],
   "source": [
    "%%html\n",
    "<table>\n",
    "<tr>\n",
    "<th>Header 1</th>\n",
    "<th>Header 2</th>\n",
    "</tr>\n",
    "<tr>\n",
    "<td>row 1, cell 1</td>\n",
    "<td>row 1, cell 2</td>\n",
    "</tr>\n",
    "<tr>\n",
    "<td>row 2, cell 1</td>\n",
    "<td>row 2, cell 2</td>\n",
    "</tr>\n",
    "</table>"
   ]
  },
  {
   "cell_type": "code",
   "execution_count": null,
   "metadata": {},
   "outputs": [],
   "source": [
    "%%latex\n",
    "\\begin{align}\n",
    "\\nabla \\times \\vec{\\mathbf{B}} -\\, \\frac1c\\, \\frac{\\partial\\vec{\\mathbf{E}}}{\\partial t} & = \\frac{4\\pi}{c}\\vec{\\mathbf{j}} \\\\\n",
    "\\nabla \\cdot \\vec{\\mathbf{E}} & = 4 \\pi \\rho \\\\\n",
    "\\nabla \\times \\vec{\\mathbf{E}}\\, +\\, \\frac1c\\, \\frac{\\partial\\vec{\\mathbf{B}}}{\\partial t} & = \\vec{\\mathbf{0}} \\\\\n",
    "\\nabla \\cdot \\vec{\\mathbf{B}} & = 0\n",
    "\\end{align}"
   ]
  },
  {
   "cell_type": "markdown",
   "metadata": {},
   "source": [
    "### R"
   ]
  },
  {
   "cell_type": "markdown",
   "metadata": {},
   "source": [
    "The R world already has a powerful IDE, RStudio, where one can annotate code using Markdown and export to HTML.  \n",
    "A key difference between RStudio and Jupyter is that in Jupyter one can modify and rerun individual cells, without having to rerun everything."
   ]
  },
  {
   "cell_type": "code",
   "execution_count": null,
   "metadata": {},
   "outputs": [],
   "source": [
    "# first we need to install the necessary packages\n",
    "#!conda install -c r r-essentials \n",
    "#!conda install -y rpy2"
   ]
  },
  {
   "cell_type": "markdown",
   "metadata": {},
   "source": [
    "To run R from the Python kernel we need to load the rpy2 IPython extension"
   ]
  },
  {
   "cell_type": "code",
   "execution_count": null,
   "metadata": {},
   "outputs": [],
   "source": [
    "%load_ext rpy2.ipython"
   ]
  },
  {
   "cell_type": "code",
   "execution_count": null,
   "metadata": {},
   "outputs": [],
   "source": [
    "%%R\n",
    "myString <- \"Hello, this is R\"\n",
    "print ( myString)"
   ]
  },
  {
   "cell_type": "markdown",
   "metadata": {},
   "source": [
    "Inline plotting in R is straightforward "
   ]
  },
  {
   "cell_type": "code",
   "execution_count": null,
   "metadata": {},
   "outputs": [],
   "source": [
    "%%R \n",
    "# Define the cars vector with 5 values\n",
    "cars <- c(1, 3, 6, 4, 9)\n",
    "\n",
    "# Graph cars using blue points overlayed by a line \n",
    "plot(cars, type=\"o\", col=\"blue\")\n",
    "\n",
    "# Create a title with a red, bold/italic font\n",
    "title(main=\"Autos\", col.main=\"red\", font.main=4)"
   ]
  },
  {
   "cell_type": "markdown",
   "metadata": {},
   "source": [
    "Data in R cells is of course persistent"
   ]
  },
  {
   "cell_type": "code",
   "execution_count": null,
   "metadata": {},
   "outputs": [],
   "source": [
    "%%R \n",
    "barplot(cars)"
   ]
  },
  {
   "cell_type": "markdown",
   "metadata": {},
   "source": [
    "We can plot a Python pandas dataframe with R code"
   ]
  },
  {
   "cell_type": "code",
   "execution_count": null,
   "metadata": {},
   "outputs": [],
   "source": [
    "import pandas as pd\n",
    "df = pd.DataFrame({\n",
    "    'cups_of_coffee': [0, 1, 2, 3, 4, 5, 6, 7, 8, 9],\n",
    "    'productivity': [2, 5, 6, 8, 9, 8, 0, 1, 0, -1]\n",
    "})"
   ]
  },
  {
   "cell_type": "code",
   "execution_count": null,
   "metadata": {},
   "outputs": [],
   "source": [
    "%%R -i df -w 6 -h 4 --units cm -r 200\n",
    "# the first line says 'import df and make default figure size 5 by 5 inches \n",
    "# with resolution 200. You can change the units to px, cm, etc. as you wish.\n",
    "library(ggplot2)\n",
    "ggplot(df, aes(x=cups_of_coffee, y=productivity)) + geom_line()"
   ]
  },
  {
   "cell_type": "markdown",
   "metadata": {},
   "source": [
    "### Octave/Matlab"
   ]
  },
  {
   "cell_type": "markdown",
   "metadata": {},
   "source": [
    "If we have Octave installed we could switch to an Octave kernel. This comes with a new set of magics"
   ]
  },
  {
   "cell_type": "code",
   "execution_count": null,
   "metadata": {},
   "outputs": [],
   "source": [
    "%lsmagic"
   ]
  },
  {
   "cell_type": "markdown",
   "metadata": {},
   "source": [
    "t = linspace(0,6*pi,100);\n",
    "plot(t,sin(t))\n",
    "grid on\n",
    "hold on\n",
    "plot(t,cos(t), 'r')"
   ]
  },
  {
   "cell_type": "markdown",
   "metadata": {},
   "source": [
    "tx = ty = linspace (-8, 8, 41)';\n",
    "[xx, yy] = meshgrid (tx, ty);\n",
    "r = sqrt (xx .^ 2 + yy .^ 2) + eps;\n",
    "tz = sin (r) ./ r;\n",
    "mesh (tx, ty, tz);"
   ]
  },
  {
   "cell_type": "markdown",
   "metadata": {},
   "source": [
    "### Creating your own custom magic"
   ]
  },
  {
   "cell_type": "markdown",
   "metadata": {},
   "source": [
    "Using the `@register_cell_magic` decorator, we will create a cell magic command that compiles C++ code and executes it\n"
   ]
  },
  {
   "cell_type": "markdown",
   "metadata": {},
   "source": [
    "> This example has been borrowed from the [IPython Minibook](http://ipython-books.github.io/), by Cyrille Rossant, Packt Publishing, 2015.\n"
   ]
  },
  {
   "cell_type": "code",
   "execution_count": null,
   "metadata": {},
   "outputs": [],
   "source": [
    "from IPython.core.magic import register_cell_magic"
   ]
  },
  {
   "cell_type": "code",
   "execution_count": null,
   "metadata": {},
   "outputs": [],
   "source": [
    "@register_cell_magic\n",
    "def cpp(line, cell):\n",
    "    \"\"\"Compile, execute C++ code, and return the standard output.\"\"\"\n",
    "\n",
    "    # We first retrieve the current IPython interpreter instance.\n",
    "    ip = get_ipython()\n",
    "\n",
    "    # We define the source and executable filenames.\n",
    "    source_filename = '_temp.cpp'\n",
    "    program_filename = '_temp'\n",
    "\n",
    "    # We write the code to the C++ file.\n",
    "    with open(source_filename, 'w') as f:\n",
    "        f.write(cell)\n",
    "\n",
    "    # We compile the C++ code into an executable.\n",
    "    compile = ip.getoutput(\"g++ {0:s} -o {1:s}\".format(\n",
    "        source_filename, program_filename))\n",
    "\n",
    "    # We execute the executable and return the output.\n",
    "    output = ip.getoutput('./{0:s}'.format(program_filename))\n",
    "\n",
    "    print('\\n'.join(output))"
   ]
  },
  {
   "cell_type": "code",
   "execution_count": null,
   "metadata": {},
   "outputs": [],
   "source": [
    "%%cpp \n",
    "#include<iostream>\n",
    "int main(){\n",
    "    std::cout << \"Hello C++\";\n",
    "}"
   ]
  },
  {
   "cell_type": "markdown",
   "metadata": {},
   "source": [
    "This cell magic is now only available in the current notebook. To make it permanent we need to make an IPython extension. This we do by writing the definition of the function `cpp()` into a file on `PYTHONPATH` (for example current directory), and add a small function at the end"
   ]
  },
  {
   "cell_type": "code",
   "execution_count": null,
   "metadata": {},
   "outputs": [],
   "source": [
    "%%writefile cpp_ext.py\n",
    "def cpp(line, cell):\n",
    "    \"\"\"Compile, execute C++ code, and return the standard output.\"\"\"\n",
    "\n",
    "    # We first retrieve the current IPython interpreter instance.\n",
    "    ip = get_ipython()\n",
    "\n",
    "    # We define the source and executable filenames.\n",
    "    source_filename = '_temp.cpp'\n",
    "    program_filename = '_temp'\n",
    "\n",
    "    # We write the code to the C++ file.\n",
    "    with open(source_filename, 'w') as f:\n",
    "        f.write(cell)\n",
    "\n",
    "    # We compile the C++ code into an executable.\n",
    "    compile = ip.getoutput(\"g++ {0:s} -o {1:s}\".format(\n",
    "        source_filename, program_filename))\n",
    "\n",
    "    # We execute the executable and return the output.\n",
    "    output = ip.getoutput('./{0:s}'.format(program_filename))\n",
    "\n",
    "    print('\\n'.join(output))\n",
    "\n",
    "def load_ipython_extension(ipython):\n",
    "    ipython.register_magic_function(cpp,'cell')"
   ]
  },
  {
   "cell_type": "code",
   "execution_count": null,
   "metadata": {},
   "outputs": [],
   "source": [
    "%load_ext cpp_ext"
   ]
  },
  {
   "cell_type": "code",
   "execution_count": null,
   "metadata": {},
   "outputs": [],
   "source": [
    "%%cpp?"
   ]
  },
  {
   "cell_type": "markdown",
   "metadata": {},
   "source": [
    "# Summing up"
   ]
  },
  {
   "cell_type": "markdown",
   "metadata": {},
   "source": [
    "## Key features of Jupyter Notebooks\n",
    "- Excels at [literate programming](https://en.wikipedia.org/wiki/Literate_programming)\n",
    "- Many features of integrated development environment (IDE): code completion, easy access to help\n",
    "- [Support for many programming languages](https://github.com/jupyter/jupyter/wiki/Jupyter-kernels)"
   ]
  },
  {
   "cell_type": "markdown",
   "metadata": {},
   "source": [
    "## Use cases\n",
    "- Experimenting with new ideas, testing new libraries/databases \n",
    "- Interactive code, data analysis and visualization development\n",
    "- Sharing and explaining code to colleagues\n",
    "- Learning from other notebooks\n",
    "- Keeping track of interactive sessions, like a digital lab notebook\n",
    "- Supplementary information with published articles\n",
    "- Teaching (programming, experimental/theoretical science)\n",
    "- Presentations"
   ]
  },
  {
   "cell_type": "markdown",
   "metadata": {},
   "source": [
    "## When not to use notebooks?\n",
    "\n",
    "- Large codebases are difficult to manage in notebooks\n",
    "- More difficult to follow good software development practices\n",
    "    - doesn't play well with version control (see below)\n",
    "    - not as easy to do automated testing\n",
    "    - not as useful as IDE to ensure PEP8-compliance"
   ]
  },
  {
   "cell_type": "markdown",
   "metadata": {},
   "source": [
    "## Sharing notebooks\n",
    "\n",
    "- You can enter a URL, GitHub repo or username, or GIST ID in [`nbviewer`](https://nbviewer.jupyter.org/) and view a rendered Jupyter notebook\n",
    "    - try entering just \"coderefinery\" and see if you can find this current notebook\n",
    "- Read the Docs can render Jupyter Notebooks via the [nbsphinx package](https://nbsphinx.readthedocs.io/)\n",
    "- [Binder](https://mybinder.org/) creates live notebooks based on a GitHub repository\n",
    "- [CoCalc](https://cocalc.com/) (formerly SageMathCloud) allows collaborative editing of notebooks in the cloud \n",
    "- Google's [colaboratory](https://colab.research.google.com/) lets you work on notebooks in the cloud, and you can [read and write to notebook files on Drive](https://colab.research.google.com/notebooks/io.ipynb)\n",
    "- [Microsoft Azure Notebooks](https://notebooks.azure.com/) also offers free notebooks in the cloud\n",
    "- [JupyterLab](https://github.com/jupyterlab/jupyterlab) supports sharing and collaborative editing of notebooks via Google Drive \n",
    "- [Notedown](https://github.com/aaren/notedown), [Jupinx](https://github.com/QuantEcon/sphinxcontrib-jupyter) and [DocOnce](https://github.com/hplgit/doconce) can take Markdown or Sphinx files and generate Jupyter Notebooks\n",
    "- The `jupyter nbconvert` tool can convert a (`.ipynb`) notebook file to:\n",
    "    - python code (`.py` file) \n",
    "    - an HTML file\n",
    "    - a LaTeX file\n",
    "    - a PDF file\n",
    "    - a slide-show in the browser\n",
    "\n",
    "Note: the Google, Microsoft and CoCalc platforms are free but have paid subscriptions for faster access to cloud resources"
   ]
  },
  {
   "cell_type": "markdown",
   "metadata": {},
   "source": [
    "## [JupyterHub](https://github.com/jupyterhub)\n",
    "\n",
    "- A multi-user hub to spawn, manage and proxy multiple instances of the Jupyter Notebook server\n",
    "- Purpose: supporting multiple users, who can log in and start notebooks\n",
    "- Used by: student classes, corporate data science workgroup, scientific research group, high-performance computing group"
   ]
  },
  {
   "cell_type": "markdown",
   "metadata": {},
   "source": [
    "## [JupyterLab](https://github.com/jupyterlab/jupyterlab)\n",
    "\n",
    "- Natural evolution of the Jupyter Notebook user interface\n",
    "- An \"IDE\": *Interactive* Development Environment\n",
    "- Flexible user interface for assembling the building blocks of interactive computing\n",
    "- Adaptable to multiple workflows. Switch between Notebook/narrative focus and script/console focus\n",
    "- A stable version suitable for general usage was released in Feb. 2018"
   ]
  },
  {
   "cell_type": "markdown",
   "metadata": {},
   "source": [
    "![jupyterlab](img/jlab-screenshot-nb-con-term-2_40.png)"
   ]
  },
  {
   "cell_type": "markdown",
   "metadata": {},
   "source": [
    "## Version control of notebooks\n",
    "Jupyter Notebooks are stored in json format, which is easy to parse but basic diff and merge tools do not handle it well.  \n",
    "This reduces the power of version control systems like Git. Tools like [nbdime](http://nbdime.readthedocs.io/en/latest/) provide \"content-aware\" diffing and merging"
   ]
  },
  {
   "cell_type": "markdown",
   "metadata": {},
   "source": [
    "- nbdime can be installed with `pip install nbdime` \n",
    "- To diff two notebooks in terminal do `nbdiff notebook_1.ipynb notebook_2.ipynb`\n",
    "- Or if you want a rich web-based rendering: `nbdiff-web notebook_1.ipynb notebook_2.ipynb`\n",
    "- To integrate nbdime with Git, type `nbdime config-git --enable --global`  \n",
    "(this will leave Git's behavior unchanged for non-notebook files, but use nbdime's diff and merge for notebook .ipynb files)\n",
    "- [Click here to get back to exercise 1.2](#exercise_git)"
   ]
  },
  {
   "cell_type": "markdown",
   "metadata": {},
   "source": [
    "## Links and further reading\n",
    " - https://github.com/jupyter/jupyter/wiki/A-gallery-of-interesting-Jupyter-Notebooks\n",
    " - http://ipython-books.github.io/minibook/\n",
    " - http://ipython-books.github.io/cookbook/\n",
    " - https://www.oreilly.com/ideas/the-state-of-jupyter"
   ]
  },
  {
   "cell_type": "markdown",
   "metadata": {},
   "source": [
    "## Lesson key points\n",
    "\n",
    "- Keyboard shortcuts simplify using Jupyter\n",
    "- Magics allow you to\n",
    " - access the filesystem\n",
    " - time, debug and profile your code\n",
    " - run shell commands in underlying system\n",
    "- You can also create your own magics\n",
    "- You can add inline plots, and widgets provide more interactivity\n",
    "- The json format of Jupyter Notebooks is not optimal for version control with Git, but the nbdime tool helps\n",
    "- Jupyter can run many kernels, among them Python, Octave, Julia and R (assuming they are installed on the host running Jupyter)"
   ]
  },
  {
   "cell_type": "markdown",
   "metadata": {},
   "source": [
    "# Use cases"
   ]
  },
  {
   "cell_type": "markdown",
   "metadata": {},
   "source": [
    "If time allows, we will now split up and work in groups (or individually). Choose one theme from the following list that you're most interested in. \n",
    "\n",
    "\n",
    "1. Data analysis. Study the [data_analysis.ipynb](https://github.com/coderefinery/jupyter/blob/master/data_analysis.ipynb) notebook, try to solve the exercises and discuss with other learners and instructors.\n",
    "2. Accelerating Python code. Study the [accelerating_python.ipynb](https://github.com/coderefinery/jupyter/blob/master/accelerating_python.ipynb) notebook, try to solve the exercises and discuss with other learners and instructors.\n",
    "3. Discussion group on possible use cases of Jupyter Notebooks\n",
    "    - Do you see possible use cases in your research, or does it not suit your needs? \n",
    "    - Would you consider publishing a Jupyter Notebook as supplementary material with your articles? \n",
    "    - What do you find to be particularly interesting/powerful about Jupyter, and what are the drawbacks and limitations? \n",
    "4. Jupyter Lab is finally in beta, you can install it with `!pip install jupyterlab` and run it with `jupyter lab` instead of `jupyter notebook`\n",
    "5. Do you want to research some other aspects of Jupyter Notebooks? Go ahead and feel free to discuss with other learners and instructors."
   ]
  },
  {
   "cell_type": "code",
   "execution_count": null,
   "metadata": {},
   "outputs": [],
   "source": []
  }
 ],
 "metadata": {
  "anaconda-cloud": {},
  "kernelspec": {
   "display_name": "Python (coderef3)",
   "language": "python",
   "name": "coderef3"
  },
  "language_info": {
   "codemirror_mode": {
    "name": "ipython",
    "version": 3
   },
   "file_extension": ".py",
   "mimetype": "text/x-python",
   "name": "python",
   "nbconvert_exporter": "python",
   "pygments_lexer": "ipython3",
   "version": "3.6.5"
  },
  "widgets": {
   "state": {
    "629d3a72e0e241ba91f8932c1f7481b1": {
     "views": [
      {
       "cell_index": 80
      }
     ]
    }
   },
   "version": "1.2.0"
  }
 },
 "nbformat": 4,
 "nbformat_minor": 2
}
